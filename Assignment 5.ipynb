{
 "cells": [
  {
   "cell_type": "code",
   "execution_count": null,
   "id": "72bfb68a",
   "metadata": {},
   "outputs": [],
   "source": []
  },
  {
   "cell_type": "code",
   "execution_count": 7,
   "id": "dfeab07c",
   "metadata": {},
   "outputs": [
    {
     "name": "stdout",
     "output_type": "stream",
     "text": [
      "Enter the x value : 10\n",
      "Enter the n value : 2\n",
      "Value of 10**2 is : 100\n"
     ]
    }
   ],
   "source": [
    "class py_power:\n",
    "    def power(self,x,n):\n",
    "        if x == 0 or x == 1 or n == 1:\n",
    "            return x\n",
    "        if x == -1:\n",
    "            if n % 2 == 0:\n",
    "                return 1\n",
    "            else:\n",
    "                return -1\n",
    "        if n == 0:\n",
    "            return 1\n",
    "        if n < 0:\n",
    "            return 1/self.power(x,-n)\n",
    "        val = self.power(x,n//2)\n",
    "        if n % 2 == 0:\n",
    "            return val*val\n",
    "        return val*val*x\n",
    "\n",
    "x = int(input(\"Enter the x value : \"))\n",
    "n = int(input(\"Enter the n value : \"))\n",
    "print(f\"Value of {x}**{n} is : {py_power().power(x,n)}\")"
   ]
  },
  {
   "cell_type": "code",
   "execution_count": null,
   "id": "e4a8335b",
   "metadata": {},
   "outputs": [],
   "source": []
  }
 ],
 "metadata": {
  "kernelspec": {
   "display_name": "Python 3 (ipykernel)",
   "language": "python",
   "name": "python3"
  },
  "language_info": {
   "codemirror_mode": {
    "name": "ipython",
    "version": 3
   },
   "file_extension": ".py",
   "mimetype": "text/x-python",
   "name": "python",
   "nbconvert_exporter": "python",
   "pygments_lexer": "ipython3",
   "version": "3.9.12"
  }
 },
 "nbformat": 4,
 "nbformat_minor": 5
}
